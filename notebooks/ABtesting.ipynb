{
 "cells": [
  {
   "cell_type": "code",
   "execution_count": 2,
   "metadata": {},
   "outputs": [],
   "source": [
    "import pandas as pd\n",
    "import numpy as np\n",
    "from scipy import stats\n",
    "import statsmodels.api as sm"
   ]
  },
  {
   "cell_type": "code",
   "execution_count": 3,
   "metadata": {},
   "outputs": [
    {
     "name": "stderr",
     "output_type": "stream",
     "text": [
      "C:\\Users\\pc\\AppData\\Local\\Temp\\ipykernel_18848\\859502855.py:2: DtypeWarning: Columns (32,37) have mixed types. Specify dtype option on import or set low_memory=False.\n",
      "  df = pd.read_csv('../data/MachineLearningRating_v3.txt')\n"
     ]
    }
   ],
   "source": [
    "# Load the dataset\n",
    "df = pd.read_csv('../data/MachineLearningRating_v3.txt')"
   ]
  },
  {
   "cell_type": "code",
   "execution_count": 27,
   "metadata": {},
   "outputs": [],
   "source": [
    "# Define Helper Functions for Statistical Testing\n",
    "def perform_ttest(group_a, group_b, metric):\n",
    "    \"\"\"\n",
    "    Perform a t-test between two groups on a specified metric.\n",
    "    \"\"\"\n",
    "    group_a_values = group_a[metric].dropna()\n",
    "    group_b_values = group_b[metric].dropna()\n",
    "    t_stat, p_value = stats.ttest_ind(group_a_values, group_b_values, equal_var=False)\n",
    "    return t_stat, p_value\n",
    "\n",
    "def perform_chi2_test(group_a, group_b, categorical_column):\n",
    "    \"\"\"\n",
    "    Perform a chi-squared test between two groups on a categorical column.\n",
    "    \"\"\"\n",
    "    contingency_table = pd.crosstab(group_a[categorical_column], group_b[categorical_column])\n",
    "    chi2_stat, p_value, _, _ = stats.chi2_contingency(contingency_table)\n",
    "    return chi2_stat, p_value\n",
    "\n",
    "def analyze_results(p_value, alpha=0.05):\n",
    "    if p_value < alpha:\n",
    "        return 'Reject the null hypothesis (significant difference)'\n",
    "    else:\n",
    "        return 'Fail to reject the null hypothesis (no significant difference)'\n"
   ]
  },
  {
   "cell_type": "markdown",
   "metadata": {},
   "source": [
    "#### Risk Differences Across Provinces"
   ]
  },
  {
   "cell_type": "code",
   "execution_count": 5,
   "metadata": {},
   "outputs": [
    {
     "name": "stdout",
     "output_type": "stream",
     "text": [
      "Province T-Test: t-statistic = -1.246201702257548, p-value = 0.21269135333580677\n"
     ]
    }
   ],
   "source": [
    "# Data Segmentation\n",
    "province_a = df[df['Province'] == 'Gauteng']\n",
    "province_b = df[df['Province'] == 'KwaZulu-Natal']\n",
    "\n",
    "# Perform T-Test for TotalClaims\n",
    "t_stat, p_value = perform_ttest(province_a, province_b, 'TotalClaims')\n",
    "print(f'Province T-Test: t-statistic = {t_stat}, p-value = {p_value}')\n"
   ]
  },
  {
   "cell_type": "code",
   "execution_count": 28,
   "metadata": {},
   "outputs": [
    {
     "name": "stdout",
     "output_type": "stream",
     "text": [
      "Province Test Result: Fail to reject the null hypothesis (no significant difference)\n"
     ]
    }
   ],
   "source": [
    "print('Province Test Result:', analyze_results(0.21269135333580677))"
   ]
  },
  {
   "cell_type": "markdown",
   "metadata": {},
   "source": [
    "#### Risk Differences Between Zip Codes"
   ]
  },
  {
   "cell_type": "code",
   "execution_count": 24,
   "metadata": {},
   "outputs": [
    {
     "name": "stdout",
     "output_type": "stream",
     "text": [
      "Zip Code T-Test: t-statistic = 0.5241840959722943, p-value = 0.6001818944372983\n"
     ]
    }
   ],
   "source": [
    "# Choose two zip codes for comparison\n",
    "#zip_code_a = df[df['PostalCode'] == '2000']\n",
    "#zip_code_b = df[df['PostalCode'] == '122']\n",
    "\n",
    "# Combine zip codes for a larger sample size\n",
    "zip_code_a = df[df['PostalCode'].isin([4093, 1852])]  # Group 1: Combine two zip codes\n",
    "zip_code_b = df[df['PostalCode'].isin([1619, 2000])]  # Group 2: Combine two other zip codes\n",
    "\n",
    "# Perform T-Test for TotalClaims\n",
    "t_stat, p_value = perform_ttest(zip_code_a, zip_code_b, 'TotalClaims')\n",
    "print(f'Zip Code T-Test: t-statistic = {t_stat}, p-value = {p_value}')"
   ]
  },
  {
   "cell_type": "code",
   "execution_count": 29,
   "metadata": {},
   "outputs": [
    {
     "name": "stdout",
     "output_type": "stream",
     "text": [
      "Zip Code Test Result: Fail to reject the null hypothesis (no significant difference)\n"
     ]
    }
   ],
   "source": [
    "print('Zip Code Test Result:', analyze_results(0.6001818944372983))"
   ]
  },
  {
   "cell_type": "markdown",
   "metadata": {},
   "source": [
    "#### Margin (Profit) Differences Between Zip Codes"
   ]
  },
  {
   "cell_type": "code",
   "execution_count": 25,
   "metadata": {},
   "outputs": [
    {
     "name": "stdout",
     "output_type": "stream",
     "text": [
      "Margin T-Test: t-statistic = -3.3086968162781236, p-value = 0.0009462764058919544\n"
     ]
    }
   ],
   "source": [
    "# Perform T-Test for TotalPremium (Margin)\n",
    "t_stat, p_value = perform_ttest(zip_code_a, zip_code_b, 'TotalPremium')\n",
    "print(f'Margin T-Test: t-statistic = {t_stat}, p-value = {p_value}')"
   ]
  },
  {
   "cell_type": "code",
   "execution_count": 30,
   "metadata": {},
   "outputs": [
    {
     "name": "stdout",
     "output_type": "stream",
     "text": [
      "Margin Test Result: Reject the null hypothesis (significant difference)\n"
     ]
    }
   ],
   "source": [
    "print('Margin Test Result:', analyze_results(0.0009462764058919544))"
   ]
  },
  {
   "cell_type": "markdown",
   "metadata": {},
   "source": [
    "#### Risk Differences Between Women and Men"
   ]
  },
  {
   "cell_type": "code",
   "execution_count": 12,
   "metadata": {},
   "outputs": [
    {
     "name": "stdout",
     "output_type": "stream",
     "text": [
      "Gender T-Test: t-statistic = 0.296353891400699, p-value = 0.7669656471629474\n"
     ]
    }
   ],
   "source": [
    "# Data Segmentation\n",
    "women = df[df['Gender'] == 'Female']\n",
    "men = df[df['Gender'] == 'Male']\n",
    "\n",
    "# Perform T-Test for TotalClaims\n",
    "t_stat, p_value = perform_ttest(women, men, 'TotalClaims')\n",
    "print(f'Gender T-Test: t-statistic = {t_stat}, p-value = {p_value}')\n"
   ]
  },
  {
   "cell_type": "code",
   "execution_count": 31,
   "metadata": {},
   "outputs": [
    {
     "name": "stdout",
     "output_type": "stream",
     "text": [
      "Gender Test Result: Fail to reject the null hypothesis (no significant difference)\n"
     ]
    }
   ],
   "source": [
    "print('Gender Test Result:', analyze_results(0.7669656471629474))"
   ]
  }
 ],
 "metadata": {
  "kernelspec": {
   "display_name": ".venv",
   "language": "python",
   "name": "python3"
  },
  "language_info": {
   "codemirror_mode": {
    "name": "ipython",
    "version": 3
   },
   "file_extension": ".py",
   "mimetype": "text/x-python",
   "name": "python",
   "nbconvert_exporter": "python",
   "pygments_lexer": "ipython3",
   "version": "3.10.11"
  }
 },
 "nbformat": 4,
 "nbformat_minor": 2
}
